{
 "cells": [
  {
   "cell_type": "markdown",
   "id": "d7b64035-eeb6-495d-bfd9-0fb5924d2385",
   "metadata": {},
   "source": [
    "# Statistical Inference on Price of Airbnb Listings Given Property Type and Cancellation Policy\n",
    "Group 39\n",
    "## Introduction\n",
    "Home-sharing sites like Airbnb have seen substantial development in the last decade, with its ever-expanding user base attracting more customers every day. As these platforms grow in popularity, their influence on the hotel industry is becoming more and more apparent. Airbnb, for example, currently has more listings than the top five hotel firms in the world combined (Hartmans, 2017), demonstrating the home-sharing boom's market dominance. As a result, homeowners are realizing that Airbnb is a profitable method to monetize properties that might otherwise be left unoccupied, making the identification of favorable property types useful for decision-making among many stakeholders, including real estate agents, homebuyers, and property owners.\n",
    "\n",
    "Given this trend, it is critical for both hosts and guests to understand the elements that influence the price of an Airbnb listing. Airbnb has swiftly gained popularity as a lodging option for travelers all around the world, and understanding these aspects is crucial for optimizing the hosting and booking experience. In this project, we will use R to examine the relationship between property types, cancellation restrictions, and their influence on the natural log price of listings by investigating an Airbnb dataset from Kaggle. Our main purpose in analyzing the data is to determine if there are statistically significant differences in the mean log prices of various property types and cancellation policies.\n",
    "\n",
    "We believe that our study will be useful and valuable to property owners contemplating offering their houses on Airbnb, as well as real estate agents and homebuyers wanting to invest in properties with potential for higher income. Stakeholders may make better informed and more educated decisions in the ever-changing home-sharing industry by better understanding the link between property types and listing prices.\n",
    "\n",
    "\n"
   ]
  },
  {
   "cell_type": "markdown",
   "id": "25bddd19-d915-4366-8486-7d4a813ca20a",
   "metadata": {},
   "source": [
    "## Methods and Results\n",
    "### Are Apartment-type properties cheaper than House-type properties on Airbnb?\n",
    "\n",
    "\n",
    "For this section, we define notations as follows:\n",
    "\n",
    "- $\\mu_h =$  population mean log price of House type listings\n",
    "\n",
    "- $\\mu_a =$ population mean log price of Apartment type listings\n",
    "\n"
   ]
  },
  {
   "cell_type": "code",
   "execution_count": 1,
   "id": "540d597a-a995-4dd9-9b6b-2be9661662b8",
   "metadata": {},
   "outputs": [
    {
     "name": "stderr",
     "output_type": "stream",
     "text": [
      "── \u001b[1mAttaching packages\u001b[22m ─────────────────────────────────────── tidyverse 1.3.2 ──\n",
      "\u001b[32m✔\u001b[39m \u001b[34mggplot2\u001b[39m 3.3.6      \u001b[32m✔\u001b[39m \u001b[34mpurrr  \u001b[39m 0.3.4 \n",
      "\u001b[32m✔\u001b[39m \u001b[34mtibble \u001b[39m 3.1.8      \u001b[32m✔\u001b[39m \u001b[34mdplyr  \u001b[39m 1.0.10\n",
      "\u001b[32m✔\u001b[39m \u001b[34mtidyr  \u001b[39m 1.2.1      \u001b[32m✔\u001b[39m \u001b[34mstringr\u001b[39m 1.4.1 \n",
      "\u001b[32m✔\u001b[39m \u001b[34mreadr  \u001b[39m 2.1.2      \u001b[32m✔\u001b[39m \u001b[34mforcats\u001b[39m 0.5.2 \n",
      "── \u001b[1mConflicts\u001b[22m ────────────────────────────────────────── tidyverse_conflicts() ──\n",
      "\u001b[31m✖\u001b[39m \u001b[34mdplyr\u001b[39m::\u001b[32mfilter()\u001b[39m masks \u001b[34mstats\u001b[39m::filter()\n",
      "\u001b[31m✖\u001b[39m \u001b[34mdplyr\u001b[39m::\u001b[32mlag()\u001b[39m    masks \u001b[34mstats\u001b[39m::lag()\n",
      "── \u001b[1mAttaching packages\u001b[22m ────────────────────────────────────── tidymodels 1.0.0 ──\n",
      "\n",
      "\u001b[32m✔\u001b[39m \u001b[34mbroom       \u001b[39m 1.0.1     \u001b[32m✔\u001b[39m \u001b[34mrsample     \u001b[39m 1.1.0\n",
      "\u001b[32m✔\u001b[39m \u001b[34mdials       \u001b[39m 1.0.0     \u001b[32m✔\u001b[39m \u001b[34mtune        \u001b[39m 1.0.0\n",
      "\u001b[32m✔\u001b[39m \u001b[34minfer       \u001b[39m 1.0.3     \u001b[32m✔\u001b[39m \u001b[34mworkflows   \u001b[39m 1.0.0\n",
      "\u001b[32m✔\u001b[39m \u001b[34mmodeldata   \u001b[39m 1.0.1     \u001b[32m✔\u001b[39m \u001b[34mworkflowsets\u001b[39m 1.0.0\n",
      "\u001b[32m✔\u001b[39m \u001b[34mparsnip     \u001b[39m 1.0.1     \u001b[32m✔\u001b[39m \u001b[34myardstick   \u001b[39m 1.1.0\n",
      "\u001b[32m✔\u001b[39m \u001b[34mrecipes     \u001b[39m 1.0.1     \n",
      "\n",
      "── \u001b[1mConflicts\u001b[22m ───────────────────────────────────────── tidymodels_conflicts() ──\n",
      "\u001b[31m✖\u001b[39m \u001b[34mscales\u001b[39m::\u001b[32mdiscard()\u001b[39m masks \u001b[34mpurrr\u001b[39m::discard()\n",
      "\u001b[31m✖\u001b[39m \u001b[34mdplyr\u001b[39m::\u001b[32mfilter()\u001b[39m   masks \u001b[34mstats\u001b[39m::filter()\n",
      "\u001b[31m✖\u001b[39m \u001b[34mrecipes\u001b[39m::\u001b[32mfixed()\u001b[39m  masks \u001b[34mstringr\u001b[39m::fixed()\n",
      "\u001b[31m✖\u001b[39m \u001b[34mdplyr\u001b[39m::\u001b[32mlag()\u001b[39m      masks \u001b[34mstats\u001b[39m::lag()\n",
      "\u001b[31m✖\u001b[39m \u001b[34myardstick\u001b[39m::\u001b[32mspec()\u001b[39m masks \u001b[34mreadr\u001b[39m::spec()\n",
      "\u001b[31m✖\u001b[39m \u001b[34mrecipes\u001b[39m::\u001b[32mstep()\u001b[39m   masks \u001b[34mstats\u001b[39m::step()\n",
      "\u001b[34m•\u001b[39m Dig deeper into tidy modeling with R at \u001b[32mhttps://www.tmwr.org\u001b[39m\n",
      "\n",
      "\n",
      "Attaching package: ‘gridExtra’\n",
      "\n",
      "\n",
      "The following object is masked from ‘package:dplyr’:\n",
      "\n",
      "    combine\n",
      "\n",
      "\n"
     ]
    }
   ],
   "source": [
    "# load packages\n",
    "library(tidyverse)\n",
    "library(tidymodels)\n",
    "library(cowplot)\n",
    "library(datateachr)\n",
    "library(digest)\n",
    "library(infer)\n",
    "library(repr)\n",
    "library(taxyvr)\n",
    "library(tidyverse)\n",
    "library(broom)\n",
    "library(digest)\n",
    "library(grid)\n",
    "library(gridExtra)"
   ]
  },
  {
   "cell_type": "markdown",
   "id": "352667d3-3110-4a6c-9a78-0a2b0a3472a7",
   "metadata": {},
   "source": [
    "### Preliminary Analysis\n",
    "First, we should perform some preliminary analysis on the data."
   ]
  },
  {
   "cell_type": "code",
   "execution_count": 2,
   "id": "9ad76826-7b7b-4ba1-a8b2-dd70734cde29",
   "metadata": {},
   "outputs": [],
   "source": [
    "# read data\n",
    "set.seed(320)\n",
    "Airbnb_whole <- read.csv(\"https://raw.githubusercontent.com/takumihoriba/stat201-project/stat201/data/train.csv\") \n"
   ]
  },
  {
   "cell_type": "code",
   "execution_count": 3,
   "id": "7cb4436f-7df7-4bc0-9090-9c4168ec8f26",
   "metadata": {},
   "outputs": [
    {
     "name": "stdout",
     "output_type": "stream",
     "text": [
      "[1] \"Table 1: Raw data set\"\n"
     ]
    },
    {
     "data": {
      "text/html": [
       "<table class=\"dataframe\">\n",
       "<caption>A data.frame: 4 × 29</caption>\n",
       "<thead>\n",
       "\t<tr><th></th><th scope=col>id</th><th scope=col>log_price</th><th scope=col>property_type</th><th scope=col>room_type</th><th scope=col>amenities</th><th scope=col>accommodates</th><th scope=col>bathrooms</th><th scope=col>bed_type</th><th scope=col>cancellation_policy</th><th scope=col>cleaning_fee</th><th scope=col>⋯</th><th scope=col>latitude</th><th scope=col>longitude</th><th scope=col>name</th><th scope=col>neighbourhood</th><th scope=col>number_of_reviews</th><th scope=col>review_scores_rating</th><th scope=col>thumbnail_url</th><th scope=col>zipcode</th><th scope=col>bedrooms</th><th scope=col>beds</th></tr>\n",
       "\t<tr><th></th><th scope=col>&lt;int&gt;</th><th scope=col>&lt;dbl&gt;</th><th scope=col>&lt;chr&gt;</th><th scope=col>&lt;chr&gt;</th><th scope=col>&lt;chr&gt;</th><th scope=col>&lt;int&gt;</th><th scope=col>&lt;dbl&gt;</th><th scope=col>&lt;chr&gt;</th><th scope=col>&lt;chr&gt;</th><th scope=col>&lt;chr&gt;</th><th scope=col>⋯</th><th scope=col>&lt;dbl&gt;</th><th scope=col>&lt;dbl&gt;</th><th scope=col>&lt;chr&gt;</th><th scope=col>&lt;chr&gt;</th><th scope=col>&lt;int&gt;</th><th scope=col>&lt;dbl&gt;</th><th scope=col>&lt;chr&gt;</th><th scope=col>&lt;chr&gt;</th><th scope=col>&lt;dbl&gt;</th><th scope=col>&lt;dbl&gt;</th></tr>\n",
       "</thead>\n",
       "<tbody>\n",
       "\t<tr><th scope=row>1</th><td> 6901257</td><td>5.010635</td><td>Apartment</td><td>Entire home/apt</td><td>{\"Wireless Internet\",\"Air conditioning\",Kitchen,Heating,\"Family/kid friendly\",Essentials,\"Hair dryer\",Iron,\"translation missing: en.hosting_amenity_50\"}                                                                                                                                                               </td><td>3</td><td>1</td><td>Real Bed</td><td>strict  </td><td>True</td><td>⋯</td><td>40.69652</td><td> -73.99162</td><td>Beautiful brownstone 1-bedroom          </td><td>Brooklyn Heights</td><td> 2</td><td>100</td><td>https://a0.muscache.com/im/pictures/6d7cbbf7-c034-459c-bc82-6522c957627c.jpg?aki_policy=small</td><td>11201  </td><td>1</td><td>1</td></tr>\n",
       "\t<tr><th scope=row>2</th><td> 6304928</td><td>5.129899</td><td>Apartment</td><td>Entire home/apt</td><td>{\"Wireless Internet\",\"Air conditioning\",Kitchen,Heating,\"Family/kid friendly\",Washer,Dryer,\"Smoke detector\",\"Fire extinguisher\",Essentials,Shampoo,Hangers,\"Hair dryer\",Iron,\"translation missing: en.hosting_amenity_50\"}                                                                                             </td><td>7</td><td>1</td><td>Real Bed</td><td>strict  </td><td>True</td><td>⋯</td><td>40.76612</td><td> -73.98904</td><td>Superb 3BR Apt Located Near Times Square</td><td>Hell's Kitchen  </td><td> 6</td><td> 93</td><td>https://a0.muscache.com/im/pictures/348a55fe-4b65-452a-b48a-bfecb3b58a66.jpg?aki_policy=small</td><td>10019  </td><td>3</td><td>3</td></tr>\n",
       "\t<tr><th scope=row>3</th><td> 7919400</td><td>4.976734</td><td>Apartment</td><td>Entire home/apt</td><td>{TV,\"Cable TV\",\"Wireless Internet\",\"Air conditioning\",Kitchen,Breakfast,\"Buzzer/wireless intercom\",Heating,\"Family/kid friendly\",\"Smoke detector\",\"Carbon monoxide detector\",\"Fire extinguisher\",Essentials,Shampoo,Hangers,\"Hair dryer\",Iron,\"Laptop friendly workspace\",\"translation missing: en.hosting_amenity_50\"}</td><td>5</td><td>1</td><td>Real Bed</td><td>moderate</td><td>True</td><td>⋯</td><td>40.80811</td><td> -73.94376</td><td>The Garden Oasis                        </td><td>Harlem          </td><td>10</td><td> 92</td><td>https://a0.muscache.com/im/pictures/6fae5362-9e3a-4fa9-aa54-bbd5ea26538d.jpg?aki_policy=small</td><td>10027  </td><td>1</td><td>3</td></tr>\n",
       "\t<tr><th scope=row>4</th><td>13418779</td><td>6.620073</td><td>House    </td><td>Entire home/apt</td><td>{TV,\"Cable TV\",Internet,\"Wireless Internet\",Kitchen,\"Indoor fireplace\",\"Buzzer/wireless intercom\",Heating,Washer,Dryer,\"Smoke detector\",\"Carbon monoxide detector\",\"First aid kit\",\"Fire extinguisher\",Essentials}                                                                                                     </td><td>4</td><td>1</td><td>Real Bed</td><td>flexible</td><td>True</td><td>⋯</td><td>37.77200</td><td>-122.43162</td><td>Beautiful Flat in the Heart of SF!      </td><td>Lower Haight    </td><td> 0</td><td> NA</td><td>https://a0.muscache.com/im/pictures/72208dad-9c86-41ea-a735-43d933111063.jpg?aki_policy=small</td><td>94117.0</td><td>2</td><td>2</td></tr>\n",
       "</tbody>\n",
       "</table>\n"
      ],
      "text/latex": [
       "A data.frame: 4 × 29\n",
       "\\begin{tabular}{r|lllllllllllllllllllll}\n",
       "  & id & log\\_price & property\\_type & room\\_type & amenities & accommodates & bathrooms & bed\\_type & cancellation\\_policy & cleaning\\_fee & ⋯ & latitude & longitude & name & neighbourhood & number\\_of\\_reviews & review\\_scores\\_rating & thumbnail\\_url & zipcode & bedrooms & beds\\\\\n",
       "  & <int> & <dbl> & <chr> & <chr> & <chr> & <int> & <dbl> & <chr> & <chr> & <chr> & ⋯ & <dbl> & <dbl> & <chr> & <chr> & <int> & <dbl> & <chr> & <chr> & <dbl> & <dbl>\\\\\n",
       "\\hline\n",
       "\t1 &  6901257 & 5.010635 & Apartment & Entire home/apt & \\{\"Wireless Internet\",\"Air conditioning\",Kitchen,Heating,\"Family/kid friendly\",Essentials,\"Hair dryer\",Iron,\"translation missing: en.hosting\\_amenity\\_50\"\\}                                                                                                                                                                & 3 & 1 & Real Bed & strict   & True & ⋯ & 40.69652 &  -73.99162 & Beautiful brownstone 1-bedroom           & Brooklyn Heights &  2 & 100 & https://a0.muscache.com/im/pictures/6d7cbbf7-c034-459c-bc82-6522c957627c.jpg?aki\\_policy=small & 11201   & 1 & 1\\\\\n",
       "\t2 &  6304928 & 5.129899 & Apartment & Entire home/apt & \\{\"Wireless Internet\",\"Air conditioning\",Kitchen,Heating,\"Family/kid friendly\",Washer,Dryer,\"Smoke detector\",\"Fire extinguisher\",Essentials,Shampoo,Hangers,\"Hair dryer\",Iron,\"translation missing: en.hosting\\_amenity\\_50\"\\}                                                                                              & 7 & 1 & Real Bed & strict   & True & ⋯ & 40.76612 &  -73.98904 & Superb 3BR Apt Located Near Times Square & Hell's Kitchen   &  6 &  93 & https://a0.muscache.com/im/pictures/348a55fe-4b65-452a-b48a-bfecb3b58a66.jpg?aki\\_policy=small & 10019   & 3 & 3\\\\\n",
       "\t3 &  7919400 & 4.976734 & Apartment & Entire home/apt & \\{TV,\"Cable TV\",\"Wireless Internet\",\"Air conditioning\",Kitchen,Breakfast,\"Buzzer/wireless intercom\",Heating,\"Family/kid friendly\",\"Smoke detector\",\"Carbon monoxide detector\",\"Fire extinguisher\",Essentials,Shampoo,Hangers,\"Hair dryer\",Iron,\"Laptop friendly workspace\",\"translation missing: en.hosting\\_amenity\\_50\"\\} & 5 & 1 & Real Bed & moderate & True & ⋯ & 40.80811 &  -73.94376 & The Garden Oasis                         & Harlem           & 10 &  92 & https://a0.muscache.com/im/pictures/6fae5362-9e3a-4fa9-aa54-bbd5ea26538d.jpg?aki\\_policy=small & 10027   & 1 & 3\\\\\n",
       "\t4 & 13418779 & 6.620073 & House     & Entire home/apt & \\{TV,\"Cable TV\",Internet,\"Wireless Internet\",Kitchen,\"Indoor fireplace\",\"Buzzer/wireless intercom\",Heating,Washer,Dryer,\"Smoke detector\",\"Carbon monoxide detector\",\"First aid kit\",\"Fire extinguisher\",Essentials\\}                                                                                                      & 4 & 1 & Real Bed & flexible & True & ⋯ & 37.77200 & -122.43162 & Beautiful Flat in the Heart of SF!       & Lower Haight     &  0 &  NA & https://a0.muscache.com/im/pictures/72208dad-9c86-41ea-a735-43d933111063.jpg?aki\\_policy=small & 94117.0 & 2 & 2\\\\\n",
       "\\end{tabular}\n"
      ],
      "text/markdown": [
       "\n",
       "A data.frame: 4 × 29\n",
       "\n",
       "| <!--/--> | id &lt;int&gt; | log_price &lt;dbl&gt; | property_type &lt;chr&gt; | room_type &lt;chr&gt; | amenities &lt;chr&gt; | accommodates &lt;int&gt; | bathrooms &lt;dbl&gt; | bed_type &lt;chr&gt; | cancellation_policy &lt;chr&gt; | cleaning_fee &lt;chr&gt; | ⋯ ⋯ | latitude &lt;dbl&gt; | longitude &lt;dbl&gt; | name &lt;chr&gt; | neighbourhood &lt;chr&gt; | number_of_reviews &lt;int&gt; | review_scores_rating &lt;dbl&gt; | thumbnail_url &lt;chr&gt; | zipcode &lt;chr&gt; | bedrooms &lt;dbl&gt; | beds &lt;dbl&gt; |\n",
       "|---|---|---|---|---|---|---|---|---|---|---|---|---|---|---|---|---|---|---|---|---|---|\n",
       "| 1 |  6901257 | 5.010635 | Apartment | Entire home/apt | {\"Wireless Internet\",\"Air conditioning\",Kitchen,Heating,\"Family/kid friendly\",Essentials,\"Hair dryer\",Iron,\"translation missing: en.hosting_amenity_50\"}                                                                                                                                                                | 3 | 1 | Real Bed | strict   | True | ⋯ | 40.69652 |  -73.99162 | Beautiful brownstone 1-bedroom           | Brooklyn Heights |  2 | 100 | https://a0.muscache.com/im/pictures/6d7cbbf7-c034-459c-bc82-6522c957627c.jpg?aki_policy=small | 11201   | 1 | 1 |\n",
       "| 2 |  6304928 | 5.129899 | Apartment | Entire home/apt | {\"Wireless Internet\",\"Air conditioning\",Kitchen,Heating,\"Family/kid friendly\",Washer,Dryer,\"Smoke detector\",\"Fire extinguisher\",Essentials,Shampoo,Hangers,\"Hair dryer\",Iron,\"translation missing: en.hosting_amenity_50\"}                                                                                              | 7 | 1 | Real Bed | strict   | True | ⋯ | 40.76612 |  -73.98904 | Superb 3BR Apt Located Near Times Square | Hell's Kitchen   |  6 |  93 | https://a0.muscache.com/im/pictures/348a55fe-4b65-452a-b48a-bfecb3b58a66.jpg?aki_policy=small | 10019   | 3 | 3 |\n",
       "| 3 |  7919400 | 4.976734 | Apartment | Entire home/apt | {TV,\"Cable TV\",\"Wireless Internet\",\"Air conditioning\",Kitchen,Breakfast,\"Buzzer/wireless intercom\",Heating,\"Family/kid friendly\",\"Smoke detector\",\"Carbon monoxide detector\",\"Fire extinguisher\",Essentials,Shampoo,Hangers,\"Hair dryer\",Iron,\"Laptop friendly workspace\",\"translation missing: en.hosting_amenity_50\"} | 5 | 1 | Real Bed | moderate | True | ⋯ | 40.80811 |  -73.94376 | The Garden Oasis                         | Harlem           | 10 |  92 | https://a0.muscache.com/im/pictures/6fae5362-9e3a-4fa9-aa54-bbd5ea26538d.jpg?aki_policy=small | 10027   | 1 | 3 |\n",
       "| 4 | 13418779 | 6.620073 | House     | Entire home/apt | {TV,\"Cable TV\",Internet,\"Wireless Internet\",Kitchen,\"Indoor fireplace\",\"Buzzer/wireless intercom\",Heating,Washer,Dryer,\"Smoke detector\",\"Carbon monoxide detector\",\"First aid kit\",\"Fire extinguisher\",Essentials}                                                                                                      | 4 | 1 | Real Bed | flexible | True | ⋯ | 37.77200 | -122.43162 | Beautiful Flat in the Heart of SF!       | Lower Haight     |  0 |  NA | https://a0.muscache.com/im/pictures/72208dad-9c86-41ea-a735-43d933111063.jpg?aki_policy=small | 94117.0 | 2 | 2 |\n",
       "\n"
      ],
      "text/plain": [
       "  id       log_price property_type room_type      \n",
       "1  6901257 5.010635  Apartment     Entire home/apt\n",
       "2  6304928 5.129899  Apartment     Entire home/apt\n",
       "3  7919400 4.976734  Apartment     Entire home/apt\n",
       "4 13418779 6.620073  House         Entire home/apt\n",
       "  amenities                                                                                                                                                                                                                                                                                                              \n",
       "1 {\"Wireless Internet\",\"Air conditioning\",Kitchen,Heating,\"Family/kid friendly\",Essentials,\"Hair dryer\",Iron,\"translation missing: en.hosting_amenity_50\"}                                                                                                                                                               \n",
       "2 {\"Wireless Internet\",\"Air conditioning\",Kitchen,Heating,\"Family/kid friendly\",Washer,Dryer,\"Smoke detector\",\"Fire extinguisher\",Essentials,Shampoo,Hangers,\"Hair dryer\",Iron,\"translation missing: en.hosting_amenity_50\"}                                                                                             \n",
       "3 {TV,\"Cable TV\",\"Wireless Internet\",\"Air conditioning\",Kitchen,Breakfast,\"Buzzer/wireless intercom\",Heating,\"Family/kid friendly\",\"Smoke detector\",\"Carbon monoxide detector\",\"Fire extinguisher\",Essentials,Shampoo,Hangers,\"Hair dryer\",Iron,\"Laptop friendly workspace\",\"translation missing: en.hosting_amenity_50\"}\n",
       "4 {TV,\"Cable TV\",Internet,\"Wireless Internet\",Kitchen,\"Indoor fireplace\",\"Buzzer/wireless intercom\",Heating,Washer,Dryer,\"Smoke detector\",\"Carbon monoxide detector\",\"First aid kit\",\"Fire extinguisher\",Essentials}                                                                                                     \n",
       "  accommodates bathrooms bed_type cancellation_policy cleaning_fee ⋯ latitude\n",
       "1 3            1         Real Bed strict              True         ⋯ 40.69652\n",
       "2 7            1         Real Bed strict              True         ⋯ 40.76612\n",
       "3 5            1         Real Bed moderate            True         ⋯ 40.80811\n",
       "4 4            1         Real Bed flexible            True         ⋯ 37.77200\n",
       "  longitude  name                                     neighbourhood   \n",
       "1  -73.99162 Beautiful brownstone 1-bedroom           Brooklyn Heights\n",
       "2  -73.98904 Superb 3BR Apt Located Near Times Square Hell's Kitchen  \n",
       "3  -73.94376 The Garden Oasis                         Harlem          \n",
       "4 -122.43162 Beautiful Flat in the Heart of SF!       Lower Haight    \n",
       "  number_of_reviews review_scores_rating\n",
       "1  2                100                 \n",
       "2  6                 93                 \n",
       "3 10                 92                 \n",
       "4  0                 NA                 \n",
       "  thumbnail_url                                                                                \n",
       "1 https://a0.muscache.com/im/pictures/6d7cbbf7-c034-459c-bc82-6522c957627c.jpg?aki_policy=small\n",
       "2 https://a0.muscache.com/im/pictures/348a55fe-4b65-452a-b48a-bfecb3b58a66.jpg?aki_policy=small\n",
       "3 https://a0.muscache.com/im/pictures/6fae5362-9e3a-4fa9-aa54-bbd5ea26538d.jpg?aki_policy=small\n",
       "4 https://a0.muscache.com/im/pictures/72208dad-9c86-41ea-a735-43d933111063.jpg?aki_policy=small\n",
       "  zipcode bedrooms beds\n",
       "1 11201   1        1   \n",
       "2 10019   3        3   \n",
       "3 10027   1        3   \n",
       "4 94117.0 2        2   "
      ]
     },
     "metadata": {},
     "output_type": "display_data"
    }
   ],
   "source": [
    "print(\"Table 1: Raw data set\") \n",
    "head(Airbnb_whole, 4)"
   ]
  },
  {
   "cell_type": "markdown",
   "id": "39c01993-2c89-4796-828d-9e555a599c56",
   "metadata": {},
   "source": [
    "Here, we clean and wrangle the dataset into a tidy format. Since our dataset is too big for our student server to create bootstrap samples, we randomly choose a subset of this dataset of size 10,000. This allows us to perform analysis more smoothly while maintaining reasonable accuracy."
   ]
  },
  {
   "cell_type": "code",
   "execution_count": 4,
   "id": "ce350202-0f5c-4f52-9cc8-267384930ba0",
   "metadata": {},
   "outputs": [
    {
     "name": "stdout",
     "output_type": "stream",
     "text": [
      "[1] \"Table 2: Tidy form dataset\"\n"
     ]
    },
    {
     "data": {
      "text/html": [
       "<table class=\"dataframe\">\n",
       "<caption>A tibble: 6 × 2</caption>\n",
       "<thead>\n",
       "\t<tr><th scope=col>log_price</th><th scope=col>property_type</th></tr>\n",
       "\t<tr><th scope=col>&lt;dbl&gt;</th><th scope=col>&lt;chr&gt;</th></tr>\n",
       "</thead>\n",
       "<tbody>\n",
       "\t<tr><td>4.094345</td><td>House    </td></tr>\n",
       "\t<tr><td>4.700480</td><td>House    </td></tr>\n",
       "\t<tr><td>4.477337</td><td>House    </td></tr>\n",
       "\t<tr><td>6.395262</td><td>House    </td></tr>\n",
       "\t<tr><td>5.521461</td><td>Apartment</td></tr>\n",
       "\t<tr><td>3.178054</td><td>House    </td></tr>\n",
       "</tbody>\n",
       "</table>\n"
      ],
      "text/latex": [
       "A tibble: 6 × 2\n",
       "\\begin{tabular}{ll}\n",
       " log\\_price & property\\_type\\\\\n",
       " <dbl> & <chr>\\\\\n",
       "\\hline\n",
       "\t 4.094345 & House    \\\\\n",
       "\t 4.700480 & House    \\\\\n",
       "\t 4.477337 & House    \\\\\n",
       "\t 6.395262 & House    \\\\\n",
       "\t 5.521461 & Apartment\\\\\n",
       "\t 3.178054 & House    \\\\\n",
       "\\end{tabular}\n"
      ],
      "text/markdown": [
       "\n",
       "A tibble: 6 × 2\n",
       "\n",
       "| log_price &lt;dbl&gt; | property_type &lt;chr&gt; |\n",
       "|---|---|\n",
       "| 4.094345 | House     |\n",
       "| 4.700480 | House     |\n",
       "| 4.477337 | House     |\n",
       "| 6.395262 | House     |\n",
       "| 5.521461 | Apartment |\n",
       "| 3.178054 | House     |\n",
       "\n"
      ],
      "text/plain": [
       "  log_price property_type\n",
       "1 4.094345  House        \n",
       "2 4.700480  House        \n",
       "3 4.477337  House        \n",
       "4 6.395262  House        \n",
       "5 5.521461  Apartment    \n",
       "6 3.178054  House        "
      ]
     },
     "metadata": {},
     "output_type": "display_data"
    }
   ],
   "source": [
    "set.seed(320)\n",
    "\n",
    "Airbnb <- Airbnb_whole |>\n",
    "        rep_sample_n(size = 10000,reps=1,replace=FALSE) |>\n",
    "        ungroup() |>\n",
    "        select(-replicate)\n",
    "\n",
    "Airbnb_tidy <- Airbnb |>\n",
    "        select(log_price, property_type) |>\n",
    "        filter(property_type %in% c(\"House\", \"Apartment\"))\n",
    "\n",
    "print(\"Table 2: Tidy form dataset\") \n",
    "head(Airbnb_tidy)"
   ]
  },
  {
   "cell_type": "markdown",
   "id": "73e646ef-2f9a-4606-bdf4-ef18035af910",
   "metadata": {},
   "source": [
    "### Inference on mean log price given the two property types, House and Apartment"
   ]
  },
  {
   "cell_type": "code",
   "execution_count": null,
   "id": "1eb3e39d-7342-4c60-b9b6-c154793ea4fe",
   "metadata": {},
   "outputs": [],
   "source": [
    "#create boxplot for the Log Price for two different property types (House and Apartment)\n",
    "#(explanatory variable is property type and response variable is the log price)\n",
    "set.seed(320)\n",
    "options(repr.plot.width = 6, repr.plot.height = 6)\n",
    "log_price_boxplot <- ggplot(Airbnb_tidy,aes(x=property_type,y=log_price, fill = property_type))+\n",
    "                     geom_boxplot()+\n",
    "                     labs(x=\"Property Type\",y=\"Log Price in USD\") +\n",
    "                     theme(text=element_text(size=9))+\n",
    "                     labs(title=\"Figure 1: Boxplot for the Price of Two Different Property Types in Aribnb\")\n",
    "log_price_boxplot\n",
    "\n"
   ]
  },
  {
   "cell_type": "code",
   "execution_count": null,
   "id": "0808fc1d-9c84-4b1a-8c8a-ef13f69d0c4e",
   "metadata": {},
   "outputs": [],
   "source": [
    "#Preliminary exploratory data analysis\n",
    "#Calculate the percentage of each type of property (House and Apartment) in the dataset\n",
    "set.seed(320)\n",
    "prop_house_apartment <- Airbnb_tidy |>\n",
    "group_by(property_type) |>\n",
    "summarize(percent =  n()/nrow(Airbnb_tidy )) |>\n",
    "arrange(desc(percent))\n",
    "print(\"Table 3: the proportion of the property type\") \n",
    "prop_house_apartment"
   ]
  },
  {
   "cell_type": "code",
   "execution_count": null,
   "id": "b53a60fb-4ecb-45ce-bedb-21e842f569ec",
   "metadata": {},
   "outputs": [],
   "source": [
    "#estimate the parameter\n",
    "#calculate the mean, sd, min and max value for each property type \n",
    "set.seed(320)\n",
    "Airbnb_summary <- Airbnb_tidy |> group_by(property_type)|> summarize(mean = mean(log_price),sd=sd(log_price),var=var(log_price),\n",
    "                                                                     min=min(log_price), max=max(log_price),n=n())\n",
    "print(\"Table 4: Data Summary\") \n",
    "Airbnb_summary"
   ]
  },
  {
   "cell_type": "markdown",
   "id": "282aa93d-a49d-4b0b-99b1-2bca124a92da",
   "metadata": {},
   "source": [
    "### Two-sample T-test"
   ]
  },
  {
   "cell_type": "markdown",
   "id": "31901fac-b929-4f21-9138-72c1cc7f9a95",
   "metadata": {},
   "source": [
    "After that, we chose a two-sample t-test to test our hypothesis and check whether there is a statistically significant difference between the mean log prices of House and Apartment listings. We used a two-sample t-test with a significance level of 5%. \n",
    "\n",
    "To perform this hypothesis test, we split the dataset (`Airbnb_tidy`) into two independent samples (based on `property_type`: \"House\", \"Apartment\"), and then use the function `t.test` to perform hypothesis testing (in our hypothesis we chose the order u_House-u_Apartment, so to maintain consistency in `t.test`, we set x to House and y to Apartment), and use `broom::tidy()` to organize the results."
   ]
  },
  {
   "cell_type": "code",
   "execution_count": null,
   "id": "5dd7b1c3-47b2-478f-af8b-1dab90770cc9",
   "metadata": {},
   "outputs": [],
   "source": [
    "# Execute two-sample t-test\n",
    "set.seed(320)\n",
    "apartment <- Airbnb_tidy |>\n",
    "             filter(property_type==\"Apartment\")|>\n",
    "             select(log_price)\n",
    "house <- Airbnb_tidy |>\n",
    "             filter(property_type==\"House\")|>\n",
    "             select(log_price)\n",
    "two_sample_t_test <- tidy(\n",
    "                          t.test(x = house,\n",
    "                                 y = apartment,\n",
    "                                 alternative = \"greater\"))\n",
    "print(\"Table 5: Results of the t-test\") \n",
    "two_sample_t_test"
   ]
  },
  {
   "cell_type": "markdown",
   "id": "f5a22b69-8b0a-4b83-a743-805e64ed0501",
   "metadata": {},
   "source": [
    "With the above formula, we obtain a p-value of 0.03099884 (about 3%), and since we chose a 5% significance level, we can conclude that we have sufficient evidence to reject the null hypothesis—the test is significant at the given 5% level. We conclude that there is sufficient evidence that the true population parameter $\\mu_h - \\mu_a$ is significantly larger than the specified value 0."
   ]
  },
  {
   "cell_type": "markdown",
   "id": "cf29805b-3473-4c79-9c2e-92af1840515e",
   "metadata": {},
   "source": [
    "### Bootstrapping"
   ]
  },
  {
   "cell_type": "markdown",
   "id": "20789652-2e6b-4fe5-b2dc-6ea163499de4",
   "metadata": {},
   "source": [
    "In addition to the above method, we chose to use bootstrapping to construct the hypothesis test, choosing a 95% confidence interval since the significance level we chose in the t-test was 5%. \n",
    "\n",
    "We chose the workflow in the `infer` package for bootstrapping to obtain a 95% confidence interval for the test statistic to test the hypothesis. We set the response variable as `log_price`, and the explanatory variable as `property_type`. Since we have two independent samples (Apartment and House), we set our null hypothesis to \"independence\". We chose 1000 reps as a reasonable compromise between representation accuracy and calculation time on our student servers. Then we compute the test statistic, our `diff in means`, in the order of c(\"House\", \"Apartment\"), and finally, obtain a 95% confidence interval for the true value of the test statistic, the true difference in means of log price between House and Apartment listings on Airbnb."
   ]
  },
  {
   "cell_type": "code",
   "execution_count": null,
   "id": "3391455d-e1ea-43ff-bd20-0668f24f1cf1",
   "metadata": {
    "tags": []
   },
   "outputs": [],
   "source": [
    "set.seed(320) \n",
    "# get the confidence interval by bootstrapping (using infer package)\n",
    "\n",
    "bootstrapping  <- Airbnb_tidy |>\n",
    "                  specify(formula = log_price ~ property_type)  %>%\n",
    "                  hypothesize(null = \"independence\") %>%\n",
    "                  generate(reps = 1000, type = \"bootstrap\") %>%\n",
    "                  calculate(stat = \"diff in means\", order = c(\"House\", \"Apartment\")) |>\n",
    "                  get_ci(level = 0.95)\n",
    "\n",
    "print(\"Table 6: Confidence Interval (Bootstrapping)\") \n",
    "bootstrapping"
   ]
  },
  {
   "cell_type": "markdown",
   "id": "0fe941a2-0616-45f5-8575-9e07a982dd1b",
   "metadata": {},
   "source": [
    "We obtain a 95% confidence interval of [0.0003727622 0.07812131], which indicates that we are 95% confident that the the value of $\\mu_h - \\mu_a$ is within that interval. Since $\\mu_h - \\mu_a = 0$ is not within this range, we have sufficient evidence to reject the null hypothesis at the significance level of 5%.\n"
   ]
  },
  {
   "cell_type": "markdown",
   "id": "4113e8f8-2da0-4f9a-8add-9d054059bba9",
   "metadata": {},
   "source": [
    "### Comparing bootstrapping and asymptotics"
   ]
  },
  {
   "cell_type": "markdown",
   "id": "897fac15-166a-4201-8e18-3b7f4d7152c2",
   "metadata": {},
   "source": [
    "When we compared the ranges of the two confidence intervals, we found that the range of the 95% confidence interval derived by the bootstrap method is 0.07774855, while the range of the 95% confidence interval derived by the asymptotic method is infinity—much larger than the confidence interval derived by the bootstrap method. For the same sample at the same confidence level, the smaller the confidence interval range, the more accurate and appropriate it is. \n",
    "This difference does not affect this particular analysis. However, this may cause a discrepancy if the data itself, significance level, sample size or other factors change. In summary, we think the bootstrap method is more credible than the asymptotic method for this particular situation. "
   ]
  },
  {
   "cell_type": "markdown",
   "id": "1e61aa4b-ca15-4386-960c-36da05ea7656",
   "metadata": {},
   "source": [
    "### Inference on mean log price given different cancellation policies through Analysis of Variance\n",
    "Secondly, we perform analysis of variance on price based on different cancellation policies. The variable `cancellation_policy` represents a level of flexibility for cancellation for a listing, and we will utilize this categorical variable which divides the sample into five different groups to conduct a hypothesis test on mean prices from each group. Our null hypothesis is that all the mean log prices are equal, and the alternative hypothesis is that at least one of the mean log prices is different from the others. We will employ ANOVA as we know there are more than 2 possible cancellation policies, and thus groups of data, inside the `cancellation_policy` variable. \n",
    "\n",
    "We would like to check if there is already a notable difference in prices by creating a boxplot, since it allows us to see the conditional distributions of price given the cancellation policy. The Figure 2 shows an overall trend that as the cancellation policy becomes stricter, the price gets higher."
   ]
  },
  {
   "cell_type": "code",
   "execution_count": null,
   "id": "8a70fee4-fc33-448e-95dd-d192a9415863",
   "metadata": {},
   "outputs": [],
   "source": [
    "# Comparison of mean log prices given cancellation policy\n",
    "options(repr.plot.width = 6, repr.plot.height = 4)\n",
    "\n",
    "\n",
    "bp <- Airbnb |>\n",
    "    ggplot(aes(x = cancellation_policy, y = log_price, fill = cancellation_policy)) +\n",
    "    geom_boxplot() +\n",
    "    scale_x_discrete(labels = c(\"Flexible\", \"Moderate\", \"Strict\", \"Very Strict\", \"Extremely Strict\"))+\n",
    "    theme(text=element_text(size=9))+\n",
    "    labs(title = \"Figure 2: Side-by-side boxplots of log price given cancellation policy\", x = \"Cancellation policy\", y = \"log price\")\n",
    "bp"
   ]
  },
  {
   "cell_type": "markdown",
   "id": "ae5baa7e-515a-4135-8c52-16329bff76aa",
   "metadata": {},
   "source": [
    "The Table 7 that the two most strict policy groups contain very few observations. Thus, we consider these groups as outliers, excluding them from our analysis of variance because their group size is unreasonably small compared to the other groups of a few thousand observations. We believe that including these two extreme groups may lead to misleading results.\n",
    "\n",
    "Even though we ignore those two categories, we still have three subgroups with a sufficient number of observations, which makes it still reasonable to use ANOVA to conduct a valid hypothesis test. We assume the population distributions for each group are approximately normal, since our sample distributions shown in Figure 3 suggest high normality while not necessarily being *perfectly* normal. We also assume the population distributions for each group have approximately the same variance, because although the variances differ by some amount, we believe this is not a serious issue because our sample size is quite large. The biggest variance is only 1.38 times bigger than the smallest one. Therefore, we can expect a valid result from the ANOVA test."
   ]
  },
  {
   "cell_type": "code",
   "execution_count": null,
   "id": "87d6388c-4e0e-448a-9fbc-70949df39f38",
   "metadata": {},
   "outputs": [],
   "source": [
    "Airbnb |>\n",
    "group_by(cancellation_policy) |>\n",
    "summarize(count = n())\n",
    "print(\"Table 7: The number of observations in each group\")"
   ]
  },
  {
   "cell_type": "code",
   "execution_count": null,
   "id": "efdfebe9-418a-4940-b379-ff4f91735940",
   "metadata": {},
   "outputs": [],
   "source": [
    "set.seed(320)\n",
    "Airbnb_anova <- Airbnb |> select(log_price, cancellation_policy)\n",
    "\n",
    "Airbnb_fil <- Airbnb_anova |>\n",
    "filter(cancellation_policy %in% c(\"flexible\", \"moderate\", \"strict\"))\n",
    "\n",
    "Airbnb_fil |>\n",
    "group_by(cancellation_policy) |>\n",
    "summarize(n = n(), var = var(log_price))\n",
    "print(\"Table 8: The number of observations in each group and within-group variance\")"
   ]
  },
  {
   "cell_type": "code",
   "execution_count": null,
   "id": "b31dec3a-0310-48be-8804-09b159eaf75f",
   "metadata": {},
   "outputs": [],
   "source": [
    "flex <- Airbnb_fil |>\n",
    "filter(cancellation_policy == \"moderate\")\n",
    "\n",
    "anova_dist_flex <- Airbnb_fil |>\n",
    "filter(cancellation_policy == \"flexible\") |>\n",
    "ggplot(aes(x = log_price)) +\n",
    "geom_histogram() +\n",
    "labs(x = \"Log Price\", title = \"Distribution of log price for flexible cancellation policy\")\n",
    "\n",
    "anova_dist_mod <- Airbnb_fil |>\n",
    "filter(cancellation_policy == \"moderate\") |>\n",
    "ggplot(aes(x = log_price)) +\n",
    "geom_histogram() +\n",
    "labs(x = \"Log Price\", title = \"Distribution of log price for moderate cancellation policy\")\n",
    "\n",
    "anova_dist_str <- Airbnb_fil |>\n",
    "filter(cancellation_policy == \"strict\") |>\n",
    "ggplot(aes(x = log_price)) +\n",
    "geom_histogram() +\n",
    "labs(x = \"Log Price\", title = \"Distribution of log price for strict cancellation policy\")\n",
    "\n",
    "options(repr.plot.width = 8, repr.plot.height = 15)\n",
    "grid.arrange(anova_dist_flex, anova_dist_mod, anova_dist_str, ncol = 1)"
   ]
  },
  {
   "cell_type": "markdown",
   "id": "d8c5ff5a-2902-4fc7-84d8-0cb189b27a4e",
   "metadata": {},
   "source": [
    "Figure 3: Distributions of log prices across three levels of cancellation policies"
   ]
  },
  {
   "cell_type": "markdown",
   "id": "3d734c9e-3c29-470b-9bdc-e0015acc8cd3",
   "metadata": {},
   "source": [
    "Before we calculate our results, we take a moment to acknowledge the possible errors of this hypothesis test. Either Type I error or Type II error could occur; Type I error in this context means that we conclude that at least one of the mean prices are different from the others when in fact the mean prices are equal. Type II error in this context means that we conclude that all the mean prices are equal when in fact they are not all equal.\n",
    "\n",
    "Considering the possible effects of this test, it is hard for us to determine which one of these two errors we should avoid at the cost of the other, because we believe that either error would likely affect people in a roughly equal way and they should not be any serious hazards to human lives."
   ]
  },
  {
   "cell_type": "code",
   "execution_count": null,
   "id": "2a11243d-94c1-450c-a30f-a3c46e22bedb",
   "metadata": {},
   "outputs": [],
   "source": [
    "# ANOVA\n",
    "anova_results <- \n",
    "    aov(log_price ~ cancellation_policy, data = Airbnb_fil) %>% \n",
    "    tidy()\n",
    "print(\"Table 9: Result of ANOVA\") \n",
    "anova_results"
   ]
  },
  {
   "cell_type": "markdown",
   "id": "e4f294d7-ebf1-4aee-a354-75380d0d39ed",
   "metadata": {},
   "source": [
    "As the Table 9 shows, since p-value is smaller than 0.05, we reject the null hypothesis and we conclude that at least one mean log price is different from the others. \n",
    "\n",
    "Our conclusion lends itself to possible Type I error: since we rejected the null hypothesis, it is possible that the mean prices between cancellation policies are in fact the same when we conclude the opposite. "
   ]
  },
  {
   "cell_type": "markdown",
   "id": "f12dba05-58c5-4ba0-b0d1-81419d50c61b",
   "metadata": {},
   "source": [
    "## Discussion\n",
    "Based on our analysis, we found that there is a statistically significant difference between the mean log prices of House-type and Apartment-type listings on Airbnb. The results suggest that the population mean log price for house listings is greater than that for apartment listings. Furthermore, our ANOVA test found a significant difference in at least one of the three mean log prices between the three most common cancellation policies.\n",
    "\n",
    "We observed that a bootstrap-based approach and a theoretical approach using t-distribution gave the same conclusion in our setting given the same significance level of 5%. This is an assuring result, since these two methods are testing the same hypothesis and thus should produce approximately the same results. However, we also observed that the confidence intervals from the two approaches are completely different. The confidence interval from the t-test is [0.004512368, $\\infty$], while the one from bootstrapping is [0.000372762, 0.07812131]. This difference is likely due to the different underlying distributions of the two approaches. For example, the confidence intervals from the theoretical approach are always symmetric around point estimates, but the one via bootstrap distribution is constructed using percentiles so it is not guaranteed to be symmetrical. Additionally, the bootstrap distribution is fixed if and only if our seed value for randomness is fixed, so the obtained bootstrap-based confidence interval is just one instance of all possible confidence intervals from different values of seeds. These are a few possible reasons why the two approaches do not perfectly match, so more rigorous analysis should be conducted in the future with more knowledge.\n",
    "\n",
    "These findings have significant implications for both hosts and guests on Airbnb. For hosts, knowing the factors that influence pricing can help them maximize their listing prices and enhance their listings' competitiveness. Also, this information could be useful for guests to identify the best lodging alternatives based on their tastes and budget.\n",
    "\n",
    "Our analysis supported our initial expectations, which were that property types and cancellation policies would have a significant influence on the log pricing of Airbnb listings. Prospective researchers might want to further investigate the relationship between price and season, location, and ratings of both the property and the renter. Factors of a hotel or an apartment's surroundings, such as safety, environment quality, and tourist attractions, could also affect pricing of Airbnb listings with varying property types and cancellation policies, providing an intriguing topic for future exploration. \n",
    "\n",
    "Our results may pique the interest of Airbnb management companies, which could lead to further, more economically-oriented inquiries towards helping Airbnb hosts and managers set prices and cancellation policies. We could also potentially provide insights to real estate investors, leading more research in the direction of real estate, helping potential Airbnb hosts decide whether choosing to rent out a house or apartment would be more rewarding. These results could prompt further investigation into smarter decision making for Airbnb customers, helping them decide between houses or apartments, what kinds of cancellation policy is more suitable for them, and define a reasonable price for an Airbnb given its location, amenities, cancellation policy, and other factors.\n"
   ]
  },
  {
   "cell_type": "markdown",
   "id": "d48a1b36-d48d-473b-adb6-96d3345e4b78",
   "metadata": {},
   "source": [
    "## References\n",
    "Airbnb price prediction. www.kaggle.com. [accessed 2023 Mar 18]. https://www.kaggle.com/datasets/stevezhenghp/airbnb-price-prediction?resource=download.\n",
    "\n",
    "Barron K, Kung E, Proserpio D. 2020. The Effect of Home-Sharing on House Prices and Rents: Evidence from Airbnb. Marketing Science. 40(1). doi:https://doi.org/10.1287/mksc.2020.1227.\n",
    "\n",
    "Cheng M, Foley C. 2018. The sharing economy and digital discrimination: The case of Airbnb. International Journal of Hospitality Management. 70:95–98. doi:https://doi.org/10.1016/j.ijhm.2017.11.002.\n",
    "\n",
    "Garcia-López M-À, Jofre-Monseny J, Martínez-Mazza R, Segú M. 2020. Do short-term rental platforms affect housing markets? Evidence from Airbnb in Barcelona. Journal of Urban Economics. 119:103278. doi:https://doi.org/10.1016/j.jue.2020.103278. https://www.sciencedirect.com/science/article/pii/S0094119020300498.\n",
    "\n",
    "Guttentag DA, Smith SLJ. 2017. Assessing Airbnb as a disruptive innovation relative to hotels: Substitution and comparative performance expectations. International Journal of Hospitality Management. 64:1–10. doi:https://doi.org/10.1016/j.ijhm.2017.02.003. https://www.sciencedirect.com/science/article/pii/S0278431916302250.\n",
    "\n",
    "Horn K, Merante M. 2017. Is home sharing driving up rents? Evidence from Airbnb in Boston. Journal of Housing Economics. 38:14–24. doi:https://doi.org/10.1016/j.jhe.2017.08.002.\n",
    "\n",
    "Kwok L, Xie KL. 2018 Oct. Pricing strategies on Airbnb: Are multi-unit hosts revenue pros? International Journal of Hospitality Management. doi:https://doi.org/10.1016/j.ijhm.2018.09.013.\n",
    "\n",
    "Mody MA, Suess C, Lehto X. 2017. The accommodation experiencescape: a comparative assessment of hotels and Airbnb. International Journal of Contemporary Hospitality Management. 29(9):2377–2404. doi:https://doi.org/10.1108/ijchm-09-2016-0501.\n",
    "\n",
    "Wachsmuth D, Weisler A. 2018. Airbnb and the rent gap: Gentrification through the sharing economy. Environment and Planning A: Economy and Space. 50(6):1147–1170. doi:https://doi.org/10.1177/0308518x18778038.\n",
    "\n",
    "ZERVAS G, PROSERPIO D, BYERS JW. 2017. The Rise of the Sharing Economy: Estimating the Impact of Airbnb on the Hotel Industry. Journal of Marketing Research. 54(5):687–705. https://www.jstor.org/stable/44878526."
   ]
  },
  {
   "cell_type": "code",
   "execution_count": null,
   "id": "6e7116d7-30d4-4258-aa2c-1d4867a61e44",
   "metadata": {},
   "outputs": [],
   "source": []
  }
 ],
 "metadata": {
  "kernelspec": {
   "display_name": "R",
   "language": "R",
   "name": "ir"
  },
  "language_info": {
   "codemirror_mode": "r",
   "file_extension": ".r",
   "mimetype": "text/x-r-source",
   "name": "R",
   "pygments_lexer": "r",
   "version": "4.1.3"
  }
 },
 "nbformat": 4,
 "nbformat_minor": 5
}
