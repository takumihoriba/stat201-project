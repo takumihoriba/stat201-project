{
 "cells": [
  {
   "cell_type": "markdown",
   "id": "aac1ea7d-c730-47a7-887e-73cb3d245292",
   "metadata": {},
   "source": [
    "# Is apartment-type property cheaper than house-type on Airbnb?\n"
   ]
  },
  {
   "cell_type": "markdown",
   "id": "4e2c2b25-8ece-4d54-ab81-43aa3f99817f",
   "metadata": {},
   "source": [
    "## Introduction\n"
   ]
  },
  {
   "cell_type": "markdown",
   "id": "dee95a6e-3f1b-4167-a670-8689c04234fd",
   "metadata": {},
   "source": [
    "## Preliminary Results"
   ]
  },
  {
   "cell_type": "code",
   "execution_count": 1,
   "id": "e38aff9d-705f-48ac-8d9e-14df542de599",
   "metadata": {},
   "outputs": [
    {
     "name": "stderr",
     "output_type": "stream",
     "text": [
      "── \u001b[1mAttaching packages\u001b[22m ─────────────────────────────────────── tidyverse 1.3.2 ──\n",
      "\u001b[32m✔\u001b[39m \u001b[34mggplot2\u001b[39m 3.3.6      \u001b[32m✔\u001b[39m \u001b[34mpurrr  \u001b[39m 0.3.4 \n",
      "\u001b[32m✔\u001b[39m \u001b[34mtibble \u001b[39m 3.1.8      \u001b[32m✔\u001b[39m \u001b[34mdplyr  \u001b[39m 1.0.10\n",
      "\u001b[32m✔\u001b[39m \u001b[34mtidyr  \u001b[39m 1.2.1      \u001b[32m✔\u001b[39m \u001b[34mstringr\u001b[39m 1.4.1 \n",
      "\u001b[32m✔\u001b[39m \u001b[34mreadr  \u001b[39m 2.1.2      \u001b[32m✔\u001b[39m \u001b[34mforcats\u001b[39m 0.5.2 \n",
      "── \u001b[1mConflicts\u001b[22m ────────────────────────────────────────── tidyverse_conflicts() ──\n",
      "\u001b[31m✖\u001b[39m \u001b[34mdplyr\u001b[39m::\u001b[32mfilter()\u001b[39m masks \u001b[34mstats\u001b[39m::filter()\n",
      "\u001b[31m✖\u001b[39m \u001b[34mdplyr\u001b[39m::\u001b[32mlag()\u001b[39m    masks \u001b[34mstats\u001b[39m::lag()\n",
      "── \u001b[1mAttaching packages\u001b[22m ────────────────────────────────────── tidymodels 1.0.0 ──\n",
      "\n",
      "\u001b[32m✔\u001b[39m \u001b[34mbroom       \u001b[39m 1.0.1     \u001b[32m✔\u001b[39m \u001b[34mrsample     \u001b[39m 1.1.0\n",
      "\u001b[32m✔\u001b[39m \u001b[34mdials       \u001b[39m 1.0.0     \u001b[32m✔\u001b[39m \u001b[34mtune        \u001b[39m 1.0.0\n",
      "\u001b[32m✔\u001b[39m \u001b[34minfer       \u001b[39m 1.0.3     \u001b[32m✔\u001b[39m \u001b[34mworkflows   \u001b[39m 1.0.0\n",
      "\u001b[32m✔\u001b[39m \u001b[34mmodeldata   \u001b[39m 1.0.1     \u001b[32m✔\u001b[39m \u001b[34mworkflowsets\u001b[39m 1.0.0\n",
      "\u001b[32m✔\u001b[39m \u001b[34mparsnip     \u001b[39m 1.0.1     \u001b[32m✔\u001b[39m \u001b[34myardstick   \u001b[39m 1.1.0\n",
      "\u001b[32m✔\u001b[39m \u001b[34mrecipes     \u001b[39m 1.0.1     \n",
      "\n",
      "── \u001b[1mConflicts\u001b[22m ───────────────────────────────────────── tidymodels_conflicts() ──\n",
      "\u001b[31m✖\u001b[39m \u001b[34mscales\u001b[39m::\u001b[32mdiscard()\u001b[39m masks \u001b[34mpurrr\u001b[39m::discard()\n",
      "\u001b[31m✖\u001b[39m \u001b[34mdplyr\u001b[39m::\u001b[32mfilter()\u001b[39m   masks \u001b[34mstats\u001b[39m::filter()\n",
      "\u001b[31m✖\u001b[39m \u001b[34mrecipes\u001b[39m::\u001b[32mfixed()\u001b[39m  masks \u001b[34mstringr\u001b[39m::fixed()\n",
      "\u001b[31m✖\u001b[39m \u001b[34mdplyr\u001b[39m::\u001b[32mlag()\u001b[39m      masks \u001b[34mstats\u001b[39m::lag()\n",
      "\u001b[31m✖\u001b[39m \u001b[34myardstick\u001b[39m::\u001b[32mspec()\u001b[39m masks \u001b[34mreadr\u001b[39m::spec()\n",
      "\u001b[31m✖\u001b[39m \u001b[34mrecipes\u001b[39m::\u001b[32mstep()\u001b[39m   masks \u001b[34mstats\u001b[39m::step()\n",
      "\u001b[34m•\u001b[39m Use suppressPackageStartupMessages() to eliminate package startup messages\n",
      "\n"
     ]
    }
   ],
   "source": [
    "library(tidyverse)\n",
    "library(tidymodels)"
   ]
  },
  {
   "cell_type": "code",
   "execution_count": 4,
   "id": "e00d0165-802e-4274-ad5b-8fa22bb8bfe4",
   "metadata": {},
   "outputs": [
    {
     "data": {
      "text/html": [
       "<table class=\"dataframe\">\n",
       "<caption>A data.frame: 6 × 2</caption>\n",
       "<thead>\n",
       "\t<tr><th></th><th scope=col>log_price</th><th scope=col>property_type</th></tr>\n",
       "\t<tr><th></th><th scope=col>&lt;dbl&gt;</th><th scope=col>&lt;chr&gt;</th></tr>\n",
       "</thead>\n",
       "<tbody>\n",
       "\t<tr><th scope=row>1</th><td>5.010635</td><td>Apartment</td></tr>\n",
       "\t<tr><th scope=row>2</th><td>5.129899</td><td>Apartment</td></tr>\n",
       "\t<tr><th scope=row>3</th><td>4.976734</td><td>Apartment</td></tr>\n",
       "\t<tr><th scope=row>4</th><td>6.620073</td><td>House    </td></tr>\n",
       "\t<tr><th scope=row>5</th><td>4.744932</td><td>Apartment</td></tr>\n",
       "\t<tr><th scope=row>6</th><td>4.442651</td><td>Apartment</td></tr>\n",
       "</tbody>\n",
       "</table>\n"
      ],
      "text/latex": [
       "A data.frame: 6 × 2\n",
       "\\begin{tabular}{r|ll}\n",
       "  & log\\_price & property\\_type\\\\\n",
       "  & <dbl> & <chr>\\\\\n",
       "\\hline\n",
       "\t1 & 5.010635 & Apartment\\\\\n",
       "\t2 & 5.129899 & Apartment\\\\\n",
       "\t3 & 4.976734 & Apartment\\\\\n",
       "\t4 & 6.620073 & House    \\\\\n",
       "\t5 & 4.744932 & Apartment\\\\\n",
       "\t6 & 4.442651 & Apartment\\\\\n",
       "\\end{tabular}\n"
      ],
      "text/markdown": [
       "\n",
       "A data.frame: 6 × 2\n",
       "\n",
       "| <!--/--> | log_price &lt;dbl&gt; | property_type &lt;chr&gt; |\n",
       "|---|---|---|\n",
       "| 1 | 5.010635 | Apartment |\n",
       "| 2 | 5.129899 | Apartment |\n",
       "| 3 | 4.976734 | Apartment |\n",
       "| 4 | 6.620073 | House     |\n",
       "| 5 | 4.744932 | Apartment |\n",
       "| 6 | 4.442651 | Apartment |\n",
       "\n"
      ],
      "text/plain": [
       "  log_price property_type\n",
       "1 5.010635  Apartment    \n",
       "2 5.129899  Apartment    \n",
       "3 4.976734  Apartment    \n",
       "4 6.620073  House        \n",
       "5 4.744932  Apartment    \n",
       "6 4.442651  Apartment    "
      ]
     },
     "metadata": {},
     "output_type": "display_data"
    }
   ],
   "source": [
    "# read data\n",
    "data <- read.csv(\"data/train.csv\") |>\n",
    "select(log_price, property_type)\n",
    "head(data)"
   ]
  },
  {
   "cell_type": "code",
   "execution_count": 30,
   "id": "c7bf5dcd-85e1-4e34-8ee2-9e9b4d0ec832",
   "metadata": {},
   "outputs": [
    {
     "data": {
      "text/html": [
       "<table class=\"dataframe\">\n",
       "<caption>A data.frame: 1 × 1</caption>\n",
       "<thead>\n",
       "\t<tr><th scope=col>prop</th></tr>\n",
       "\t<tr><th scope=col>&lt;dbl&gt;</th></tr>\n",
       "</thead>\n",
       "<tbody>\n",
       "\t<tr><td>1</td></tr>\n",
       "</tbody>\n",
       "</table>\n"
      ],
      "text/latex": [
       "A data.frame: 1 × 1\n",
       "\\begin{tabular}{l}\n",
       " prop\\\\\n",
       " <dbl>\\\\\n",
       "\\hline\n",
       "\t 1\\\\\n",
       "\\end{tabular}\n"
      ],
      "text/markdown": [
       "\n",
       "A data.frame: 1 × 1\n",
       "\n",
       "| prop &lt;dbl&gt; |\n",
       "|---|\n",
       "| 1 |\n",
       "\n"
      ],
      "text/plain": [
       "  prop\n",
       "1 1   "
      ]
     },
     "metadata": {},
     "output_type": "display_data"
    }
   ],
   "source": [
    "# calculate ratio of house-type and apartment type to check if there are other types\n",
    "prop_house_apartment <- data |>\n",
    "summarize(prop = mean(property_type %in% c(\"House\", \"Apartment\")))\n",
    "prop_by_type"
   ]
  },
  {
   "cell_type": "code",
   "execution_count": 32,
   "id": "e1b81342-7dce-451f-ad0a-fdd0c7378e0f",
   "metadata": {},
   "outputs": [
    {
     "data": {
      "text/html": [
       "<table class=\"dataframe\">\n",
       "<caption>A data.frame: 4 × 2</caption>\n",
       "<thead>\n",
       "\t<tr><th></th><th scope=col>log_price</th><th scope=col>property_type</th></tr>\n",
       "\t<tr><th></th><th scope=col>&lt;dbl&gt;</th><th scope=col>&lt;chr&gt;</th></tr>\n",
       "</thead>\n",
       "<tbody>\n",
       "\t<tr><th scope=row>1</th><td>5.010635</td><td>Apartment</td></tr>\n",
       "\t<tr><th scope=row>2</th><td>5.129899</td><td>Apartment</td></tr>\n",
       "\t<tr><th scope=row>3</th><td>4.976734</td><td>Apartment</td></tr>\n",
       "\t<tr><th scope=row>4</th><td>6.620073</td><td>House    </td></tr>\n",
       "</tbody>\n",
       "</table>\n"
      ],
      "text/latex": [
       "A data.frame: 4 × 2\n",
       "\\begin{tabular}{r|ll}\n",
       "  & log\\_price & property\\_type\\\\\n",
       "  & <dbl> & <chr>\\\\\n",
       "\\hline\n",
       "\t1 & 5.010635 & Apartment\\\\\n",
       "\t2 & 5.129899 & Apartment\\\\\n",
       "\t3 & 4.976734 & Apartment\\\\\n",
       "\t4 & 6.620073 & House    \\\\\n",
       "\\end{tabular}\n"
      ],
      "text/markdown": [
       "\n",
       "A data.frame: 4 × 2\n",
       "\n",
       "| <!--/--> | log_price &lt;dbl&gt; | property_type &lt;chr&gt; |\n",
       "|---|---|---|\n",
       "| 1 | 5.010635 | Apartment |\n",
       "| 2 | 5.129899 | Apartment |\n",
       "| 3 | 4.976734 | Apartment |\n",
       "| 4 | 6.620073 | House     |\n",
       "\n"
      ],
      "text/plain": [
       "  log_price property_type\n",
       "1 5.010635  Apartment    \n",
       "2 5.129899  Apartment    \n",
       "3 4.976734  Apartment    \n",
       "4 6.620073  House        "
      ]
     },
     "metadata": {},
     "output_type": "display_data"
    }
   ],
   "source": [
    "air <- data |>\n",
    "filter(property_type %in% c(\"House\", \"Apartment\"))\n",
    "head(data,4)"
   ]
  },
  {
   "cell_type": "markdown",
   "id": "626a6326-f4ac-48df-8523-5f51c2b5585e",
   "metadata": {},
   "source": [
    "Define notations as follows:\n",
    "\n",
    "- $\\mu_h =$  population mean log price of house type listings\n",
    "- $\\mu_a =$ population mean log price of apartment type listings\n",
    "- $x_h =$  sample mean log price of house type listings\n",
    "- $x_a =$ sample mean log price of apartment type listings\n",
    "- $\\delta = \\mu_h - \\mu_a$\n",
    "- $d = x_h - x_a$\n",
    "- Null hypothesis $H_0: \\delta = 0$\n",
    "- Alternative hypothesis $H_a: \\delta >0$\n"
   ]
  },
  {
   "cell_type": "code",
   "execution_count": 33,
   "id": "f99a0af3-36d1-487d-a7e6-544028788736",
   "metadata": {},
   "outputs": [
    {
     "data": {
      "text/html": [
       "<table class=\"dataframe\">\n",
       "<caption>A tibble: 2 × 2</caption>\n",
       "<thead>\n",
       "\t<tr><th scope=col>property_type</th><th scope=col>sample_mean</th></tr>\n",
       "\t<tr><th scope=col>&lt;chr&gt;</th><th scope=col>&lt;dbl&gt;</th></tr>\n",
       "</thead>\n",
       "<tbody>\n",
       "\t<tr><td>Apartment</td><td>4.758850</td></tr>\n",
       "\t<tr><td>House    </td><td>4.797114</td></tr>\n",
       "</tbody>\n",
       "</table>\n"
      ],
      "text/latex": [
       "A tibble: 2 × 2\n",
       "\\begin{tabular}{ll}\n",
       " property\\_type & sample\\_mean\\\\\n",
       " <chr> & <dbl>\\\\\n",
       "\\hline\n",
       "\t Apartment & 4.758850\\\\\n",
       "\t House     & 4.797114\\\\\n",
       "\\end{tabular}\n"
      ],
      "text/markdown": [
       "\n",
       "A tibble: 2 × 2\n",
       "\n",
       "| property_type &lt;chr&gt; | sample_mean &lt;dbl&gt; |\n",
       "|---|---|\n",
       "| Apartment | 4.758850 |\n",
       "| House     | 4.797114 |\n",
       "\n"
      ],
      "text/plain": [
       "  property_type sample_mean\n",
       "1 Apartment     4.758850   \n",
       "2 House         4.797114   "
      ]
     },
     "metadata": {},
     "output_type": "display_data"
    }
   ],
   "source": [
    "# getting x_a, x_h\n",
    "sample_mean <- air |>\n",
    "group_by(property_type) |>\n",
    "summarise(sample_mean = mean(log_price))\n",
    "\n",
    "sample_mean"
   ]
  },
  {
   "cell_type": "markdown",
   "id": "cda99c02-af94-4a16-bab8-2c8daf3637c9",
   "metadata": {},
   "source": [
    "We observe $x_h > x_a \\text{ which implies  } d > 0$."
   ]
  },
  {
   "cell_type": "markdown",
   "id": "3ce13be4-a3c0-4874-8c41-fcfe123fc25c",
   "metadata": {},
   "source": [
    "## Methods: Plan"
   ]
  },
  {
   "cell_type": "markdown",
   "id": "12d95a41-1096-43b2-83e3-1ed8ec2323d9",
   "metadata": {},
   "source": [
    "## References"
   ]
  },
  {
   "cell_type": "code",
   "execution_count": null,
   "id": "3e4332a0-9193-4080-92a7-71f550c5e2d6",
   "metadata": {},
   "outputs": [],
   "source": []
  }
 ],
 "metadata": {
  "kernelspec": {
   "display_name": "R",
   "language": "R",
   "name": "ir"
  },
  "language_info": {
   "codemirror_mode": "r",
   "file_extension": ".r",
   "mimetype": "text/x-r-source",
   "name": "R",
   "pygments_lexer": "r",
   "version": "4.1.3"
  }
 },
 "nbformat": 4,
 "nbformat_minor": 5
}
